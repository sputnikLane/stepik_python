{
 "cells": [
  {
   "cell_type": "code",
   "execution_count": 108,
   "metadata": {},
   "outputs": [
    {
     "name": "stdout",
     "output_type": "stream",
     "text": [
      "1\n",
      "2\n",
      "+\n",
      "3.0\n"
     ]
    }
   ],
   "source": [
    "# put your python code here\n",
    "\"\"\"Поддерживаемые операции: +, -, /, *, mod, pow, div, где\n",
    "mod — это взятие остатка от деления,\n",
    "pow — возведение в степень,\n",
    "div — целочисленное деление.\"\"\"\n",
    "\n",
    "operations=['+','-','/', '*', 'mod', 'pow', 'div']\n",
    "notNumbers=\"a b c d e f g h i j k l m n o p q r s t u v w x y z A B C D E F G H I J K L M N O P Q R S T U V W X Y Z ~ ! @ # $ % ^ & * ( ) _ = ` \\ | ? > < : \".split()\n",
    "def calculator(a,b,operation):\n",
    "    if((a not in notNumbers) and (b not in notNumbers)):\n",
    "        if (operation in operations):\n",
    "            if((b==0.0 and operation=='/') or (b==0.0 and operation=='mod')or (b==0.0 and operation=='div')):\n",
    "                print(\"Деление на 0!\")\n",
    "            else:\n",
    "                if(operation == '/'):\n",
    "                    result = a/b\n",
    "                    print(result)\n",
    "                elif(operation == '+'):\n",
    "                    result = a+b\n",
    "                    print(result)\n",
    "                elif(operation == '-'):\n",
    "                    result = a-b\n",
    "                    print(result)\n",
    "                elif(operation == '*'):\n",
    "                    result = a*b\n",
    "                    print(result)            \n",
    "                elif(operation == 'pow'):\n",
    "                    result = pow(a,b)\n",
    "                    print(result)\n",
    "                elif(operation == 'div'):\n",
    "                    result = a//b\n",
    "                    print(result)\n",
    "                elif(operation == 'mod'):\n",
    "                    result = a%(b)\n",
    "                    print(result)\n",
    "        else: \n",
    "            print(\"Поддерживаемые операции: +, -, //, *, mod, pow, div, где /n mod — это взятие остатка от деления, /n pow — возведение в степень, /n div — целочисленное деление.\")\n",
    "    else:\n",
    "        print(\"Вы ввели не цифру\")\n",
    "n1 = input()\n",
    "n2 = input()\n",
    "operation = input()\n",
    "\n",
    "if((n1 not in notNumbers) and (n2 not in notNumbers)):\n",
    "    a = float(n1)\n",
    "    b = float(n2)\n",
    "else:\n",
    "    print(\"Вы ввели не цифру\")\n",
    "\n",
    "calculator(a,b,operation)"
   ]
  },
  {
   "cell_type": "code",
   "execution_count": 109,
   "metadata": {},
   "outputs": [
    {
     "name": "stdout",
     "output_type": "stream",
     "text": [
      "треугольник\n",
      "3\n",
      "4\n",
      "5\n",
      "6.0\n"
     ]
    }
   ],
   "source": [
    "\"\"\"Площадь заданной фигуры. Можно выбрать только из следующих фигур: круг, треугольник, прямоугольник\"\"\"\n",
    "\n",
    "import math \n",
    "\n",
    "def triangleSquare(a,b,c):\n",
    "    if((a+b)>c and (a+c)>b and (b+c)>a):\n",
    "        p = (a+b+c)/2\n",
    "        s = math.sqrt(p*(p-a)*(p-b)*(p-c))\n",
    "        return s\n",
    "    else:\n",
    "        print(\"Сумма длин двух сторон треугольника всегда больше длины третьей стороны - введены не корректные числа \")\n",
    "\n",
    "def rectangleSquare(a,b):\n",
    "    s = a*b\n",
    "    return s\n",
    "\n",
    "def circlecSquare(pi,a):\n",
    "    s = pi*a**2\n",
    "    return s\n",
    "\n",
    "def figureSquare():\n",
    "    shape = input()\n",
    "    shapes = [\"треугольник\",'прямоугольник','круг']\n",
    "    pi = 3.14\n",
    "    if (shape in shapes):\n",
    "        if (shape == \"треугольник\"):\n",
    "            a = float(input())\n",
    "            b = float(input())\n",
    "            c = float(input())\n",
    "            s = triangleSquare(a,b,c)\n",
    "        elif (shape == \"прямоугольник\"):\n",
    "            a = float(input())\n",
    "            b = float(input())\n",
    "            s = rectangleSquare(a,b)\n",
    "        elif (shape == \"круг\"):\n",
    "            a = float(input())\n",
    "            s = circlecSquare(pi,a)\n",
    "        return s\n",
    "    else:\n",
    "        print(\"Можно выбрать только из следующих фигур: круг, треугольник, прямоугольник\")\n",
    "        \n",
    "print(figureSquare())\n"
   ]
  },
  {
   "cell_type": "code",
   "execution_count": 110,
   "metadata": {},
   "outputs": [
    {
     "data": {
      "text/plain": [
       "3.0"
      ]
     },
     "execution_count": 110,
     "metadata": {},
     "output_type": "execute_result"
    }
   ],
   "source": [
    "eval('9/3')"
   ]
  },
  {
   "cell_type": "code",
   "execution_count": 111,
   "metadata": {},
   "outputs": [
    {
     "name": "stdout",
     "output_type": "stream",
     "text": [
      "1\n",
      "2\n",
      "3\n",
      "3\n",
      "1\n",
      "2\n"
     ]
    }
   ],
   "source": [
    "\"\"\"Сортировка трёх цифр - макс, мин, оставшееся\"\"\"\n",
    "notNumbers=\"a b c d e f g h i j k l m n o p q r s t u v w x y z A B C D E F G H I J K L M N O P Q R S T U V W X Y Z ~ ! @ # $ % ^ & * ( ) _ = ` \\ | ? > < : \".split()\n",
    "def sorting(a,b,c):\n",
    "    listN = [a,b,c]\n",
    "    length = len(listN)\n",
    "    maxN = listN[0]\n",
    "    minN = listN[0]\n",
    "    if((a not in notNumbers) and (b not in notNumbers) and (c not in notNumbers)):\n",
    "        for i in range(length):\n",
    "            if listN[i]>maxN:\n",
    "                maxN = listN[i]\n",
    "            elif listN[i]<minN:\n",
    "                minN = listN[i]\n",
    "        print(maxN)\n",
    "        print(minN)\n",
    "        listN.remove(maxN)\n",
    "        listN.remove(minN)\n",
    "        print(listN[0])\n",
    "    else:\n",
    "        print(\"Вы ввели не цифру\")\n",
    "        \n",
    "n1 = input()\n",
    "n2 = input()\n",
    "n3 = input()\n",
    "\n",
    "if((n1 not in notNumbers) and (n2 not in notNumbers) and (n3 not in notNumbers)):\n",
    "    a = int(n1)\n",
    "    b = int(n2)\n",
    "    c = int(n3)\n",
    "else:\n",
    "    print(\"Вы ввели не цифру\")\n",
    "\n",
    "sorting(a,b,c)"
   ]
  },
  {
   "cell_type": "markdown",
   "metadata": {},
   "source": [
    "# "
   ]
  },
  {
   "cell_type": "code",
   "execution_count": 112,
   "metadata": {},
   "outputs": [
    {
     "name": "stdout",
     "output_type": "stream",
     "text": [
      "8908412\n",
      "8908412  программистов\n"
     ]
    }
   ],
   "source": [
    "\"\"\"Сколько программистов\"\"\"\n",
    "\n",
    "notNumbers=\"a b c d e f g h i j k l m n o p q r s t u v w x y z A B C D E F G H I J K L M N O P Q R S T U V W X Y Z ~ ! @ # $ % ^ & * ( ) _ = ` \\ | ? > < : \".split()\n",
    "t = [1]\n",
    "tov = [0,5,6,7,8,9]\n",
    "ta = [2,3,4]\n",
    "def robot(a):\n",
    "    length = len(a)\n",
    "    if((a not in notNumbers)):\n",
    "            n = int(a)\n",
    "            d1 = n % 10\n",
    "            d2 = n % 100 // 10\n",
    "            if d2 == 1:\n",
    "                print(n,\" программистов\")\n",
    "            elif d1 in t:\n",
    "                print(n,\" программист\")\n",
    "            elif d1 in tov:       \n",
    "                print(n,\" программистов\")\n",
    "            elif d1 in ta:       \n",
    "                print(n,\" программиста\")\n",
    "    else:\n",
    "        print(\"Вы ввели не цифру\")\n",
    "a = input()\n",
    "robot(a)\n",
    "\n"
   ]
  },
  {
   "cell_type": "code",
   "execution_count": 113,
   "metadata": {},
   "outputs": [
    {
     "name": "stdout",
     "output_type": "stream",
     "text": [
      "097453\n",
      "Обычный\n"
     ]
    }
   ],
   "source": [
    "\"\"\"Счастливый или обычный билетик\"\"\"\n",
    "a = input()\n",
    "n = int(a)\n",
    "d1 = n % 10\n",
    "d2 = n % 100 // 10\n",
    "d3 = n % 1000 // 100\n",
    "d4 = n % 10000 // 1000\n",
    "d5 = n % 100000 // 10000\n",
    "d6 = n % 1000000 // 100000\n",
    "if(d1+d2+d3 == d4+d5+d6):\n",
    "    print(\"Счастливый\")\n",
    "else:\n",
    "    print(\"Обычный\")"
   ]
  },
  {
   "cell_type": "code",
   "execution_count": null,
   "metadata": {},
   "outputs": [],
   "source": []
  }
 ],
 "metadata": {
  "kernelspec": {
   "display_name": "Python 3",
   "language": "python",
   "name": "python3"
  },
  "language_info": {
   "codemirror_mode": {
    "name": "ipython",
    "version": 3
   },
   "file_extension": ".py",
   "mimetype": "text/x-python",
   "name": "python",
   "nbconvert_exporter": "python",
   "pygments_lexer": "ipython3",
   "version": "3.7.6"
  }
 },
 "nbformat": 4,
 "nbformat_minor": 4
}
